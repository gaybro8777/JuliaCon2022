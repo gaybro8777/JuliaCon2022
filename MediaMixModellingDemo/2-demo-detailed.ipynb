{
 "cells": [
  {
   "cell_type": "markdown",
   "id": "3772250d-3f80-436e-bfb6-6e2597c2fa58",
   "metadata": {},
   "source": [
    "# JuliaCon - MMM Demo - Detailed"
   ]
  },
  {
   "cell_type": "markdown",
   "id": "0a55d19b-ef7d-48b3-a81a-12f6d7f79130",
   "metadata": {},
   "source": [
    "Example application of Media Mix Modelling to optimize marketing spend\n",
    "\n",
    "High-level workflow:\n",
    "- Input and transform data \n",
    "    - Provide column names of the corresponding to groups of variables (eg, `cols_spend` for Adspend variables to be modelled)\n",
    "    - Variables that can have positive-only effects will be standardized to 0-1 range\n",
    "    - Variables with any-signed effects will be at least standardized via Z-Score\n",
    "- Set priors / conversion factors\n",
    "    - Ie, use your domain knowledge to set realistic marketing transforms' parameters\n",
    "- Stage 1: Fit the trend\n",
    "    - Extract separate series for growth trend, seasonality, holidays, organic variables \n",
    "- Stage 2: Fit the coefficients for marketing transformation\n",
    "    - Validate the fit (Rhat, traceplots, etc)\n",
    "- Quantify the contributions + ROAS of the current marketing spend\n",
    "- Optimize the marketing budget to maximize the marketing contribution \n",
    "    - Define a loss function that reflects your business' decision-making process\n",
    "    - Evaluate the results of the optimization + inherent uncertainty\n",
    "    \n",
    "For more details on the methodology and practical tips visit [MMM Demo Docs](https://svilupp.github.io/JuliaCon2022/dev/)"
   ]
  },
  {
   "cell_type": "code",
   "execution_count": null,
   "id": "d4733da4-e077-41cd-be35-4ed019951030",
   "metadata": {},
   "outputs": [],
   "source": [
    "using Pkg; Pkg.activate(\".\");"
   ]
  },
  {
   "cell_type": "code",
   "execution_count": null,
   "id": "671b7221-8729-4c0b-b195-0d402f98bd7b",
   "metadata": {},
   "outputs": [],
   "source": [
    "using Printf\n",
    "import Splines2\n",
    "import Optim\n",
    "import Metaheuristics\n",
    "using BenchmarkTools\n",
    "using Logging"
   ]
  },
  {
   "cell_type": "code",
   "execution_count": null,
   "id": "773ff7df-8d5a-4cc6-98b9-0b059ff78666",
   "metadata": {},
   "outputs": [],
   "source": [
    "# use Revise for interactive workflow\n",
    "using Revise\n",
    "using MediaMixModellingDemo\n",
    "# MMM reexports: Turing,DataFramesMeta,Distributions,TableTransforms,Plots,StatsPlots"
   ]
  },
  {
   "cell_type": "code",
   "execution_count": null,
   "id": "dcbfce3c-5f1b-477f-a8dd-c894e0f514e9",
   "metadata": {},
   "outputs": [],
   "source": [
    "ENV[\"LINES\"]=200\n",
    "ENV[\"COLUMNS\"]=600\n",
    "Threads.nthreads();"
   ]
  },
  {
   "cell_type": "markdown",
   "id": "5ae743a5-bf7f-42c7-a522-354d7e3446bf",
   "metadata": {},
   "source": [
    "## Generate"
   ]
  },
  {
   "cell_type": "markdown",
   "id": "4942a1ff-142f-413a-9804-4744c219bc2c",
   "metadata": {},
   "source": [
    "Let's generate some example data where we know \"truth\", so we can test this implementation"
   ]
  },
  {
   "cell_type": "code",
   "execution_count": null,
   "id": "802b1ece-1e34-4e4b-be35-cd2fc8ffd740",
   "metadata": {},
   "outputs": [],
   "source": [
    "Y,X,col_names=create_dataset(\"2020-02-01\",105,0);\n",
    "\n",
    "# Let's apply standard notation of df being the source of data\n",
    "df=X\n",
    "df[!,:revenue]=vec(sum.(eachrow(Y)));\n",
    "\n",
    "plot(df.revenue)"
   ]
  },
  {
   "cell_type": "markdown",
   "id": "85b0a1ee-bb69-4104-8cc6-f80c4648f1ba",
   "metadata": {},
   "source": [
    "# Modelling "
   ]
  },
  {
   "cell_type": "markdown",
   "id": "46037c77-1535-4b53-9a4b-003cc4cf6855",
   "metadata": {},
   "source": [
    "We will fit the model in 2 stages to deal with the under-specification.\n",
    "\n",
    "As a convention the deterministic location of the observed variable (mean of the RV `y`) will be called `mu` and its components will be all prefixed as such, eg, \n",
    "- `mu_trend` for the trend component, \n",
    "- `mu_seas` for the seasonality component, \n",
    "- `mu_hols` for the holidays component,\n",
    "- `mu_context` for the contributions of the contextual variables,\n",
    "- `mu_org`\n",
    "- `mu_spend` for the contribution of all Ad spend variables together\n",
    "- `mu_spend_by_var` for the contributions of each individual spend variables (ie, number of columns = number of Ad spend variables)\n",
    "\n",
    "(See `src/model_definition.jl` for more details)\n",
    "\n",
    "All these deterministic components will be exposed by DynamicPPL in the return statement to be easily extracted via `generated_quantities()` conditioned on fitted samples (a `chains` object). In other words, given a model fit, we can easily extract all the above components by playing the samples through the model."
   ]
  },
  {
   "cell_type": "code",
   "execution_count": null,
   "id": "2fb2713f-dda9-4c91-8cdb-4135aa6aff8c",
   "metadata": {},
   "outputs": [],
   "source": [
    "# Model used in stage1\n",
    "const MODEL_NAME_PREFIT=\"model_stage1a\"\n",
    "model_func_stage1=getfield(MediaMixModellingDemo,Symbol(MODEL_NAME_PREFIT))\n",
    "\n",
    "# Model used in stage2\n",
    "const MODEL_NAME=\"model_stage2a\"\n",
    "model_func_stage2=getfield(MediaMixModellingDemo,Symbol(MODEL_NAME))\n",
    "\n",
    "# Runs on the whole period at the moment, but allows for fitting on only the most recent data (or cross-validation)\n",
    "const FITTING_MASK=trues(nrow(df)) \n",
    "\n",
    "# Modifier of chart titles\n",
    "const EXPERIMENT_NAME=\" JuliaCon\"\n",
    "pplot=ParamsPlot(title_suffix=EXPERIMENT_NAME)\n",
    ";"
   ]
  },
  {
   "cell_type": "markdown",
   "id": "3dc3daec-3795-4343-9ec6-a09d2d9d9a9b",
   "metadata": {},
   "source": [
    "## Data"
   ]
  },
  {
   "cell_type": "markdown",
   "id": "f43a83e3-ada4-4c36-9d91-1952439f0984",
   "metadata": {},
   "source": [
    "Let's identify seasonalities in our data (for trend modelling)\n",
    "\n",
    "Pick the ones with the highest value (usually only 1 or 2 max)"
   ]
  },
  {
   "cell_type": "code",
   "execution_count": null,
   "id": "611fbd8c-21cf-48b0-9600-60d5bf3276cd",
   "metadata": {},
   "outputs": [],
   "source": [
    "# what's the seasonality\n",
    "plot_periodogram(df.revenue .- mean(df.revenue),3)"
   ]
  },
  {
   "cell_type": "code",
   "execution_count": null,
   "id": "ee0c47fd-66e8-4290-a5a3-05bd1eab34c1",
   "metadata": {},
   "outputs": [],
   "source": [
    "### Y transform\n",
    "target_label=:revenue\n",
    "y_true=df[!,target_label]\n",
    "y_std,pipe_cache_y=standardize_by_max(select(df,target_label))\n",
    "y_std=y_std[!,1]\n",
    "\n",
    "# define revert function\n",
    "revert_pipe_y= y->revert(MinMax(), (;y),pipe_cache_y).y\n",
    "\n",
    "### FEATURES\n",
    "# positive coefficient, not transformed (saturated etc)\n",
    "cols_organic=[\"newsletters\"]\n",
    "X_org,pipe_cache_org=standardize_by_max(convert.(Float64,df[!,cols_organic]))\n",
    "\n",
    "# positive coeffcients, transformed\n",
    "cols_spend=col_names.cols_spend\n",
    "X_spend,pipe_cache_spend=standardize_by_max(convert.(Float64,df[!,cols_spend]))\n",
    "\n",
    "# revert function utility\n",
    "revert_pipe_spend=x->revert(MinMax(),x,pipe_cache_spend)\n",
    "\n",
    "# any coefficient\n",
    "cols_context=[c for c in col_names.cols_context if !(c in cols_organic)]\n",
    "X_context,pipe_cache_context=standardize_by_zscore(convert.(Float64,df[!,cols_context]))\n",
    "\n",
    "# categorical\n",
    "cols_cat=[\"events\"]\n",
    "cat_levels=1\n",
    "# must be a vector\n",
    "X_cat=df[!,cols_cat[1]] .|> levelcode;\n",
    "\n",
    "# No transformation\n",
    "cols_hols=[\"hols_ind\"]\n",
    "X_hols=df[!,cols_hols]\n",
    "\n",
    "X_feat=hcat(X_spend,X_org,X_context);\n",
    "\n",
    "time_std=df.time_std\n",
    "@show time_std|>size time_std|>extrema\n",
    "\n",
    "# a trick to fit changing trends etc.\n",
    "# X_trend=Splines2.bs(time_std,df=3,boundary_knots=(-eps(),1+eps()));\n",
    "# @show X_trend|>size X_trend|>extrema\n",
    "\n",
    "# Do not provide X_trend if your trend is simple\n",
    "# It could overfit - there is a growth term, an offset and a seasonality already! \n",
    "# Use it on complicated datasets / with larger datasets\n",
    "X_trend=nothing\n",
    "\n",
    "# Seasonality (set to 4 periods here)\n",
    "seasonality_arr=[(4/(length(time_std)-1),3,\"4\")]\n",
    "X_seas=generate_seasonality_features(time_std, seasonality_arr);\n",
    "first(X_seas)"
   ]
  },
  {
   "cell_type": "markdown",
   "id": "c913ac40-4104-4c5e-b8de-e15fdfe188c4",
   "metadata": {},
   "source": [
    "**Requirements to proceed:**\n",
    "\n",
    "- Code base depends on variables under the following names:\n",
    "    - X_spend: DataFrame of adspend to be transformed (only positive coefficients will be allowed)\n",
    "    - X_org: DataFrame of organic variables (ie, only positive coefficients will be allowed)\n",
    "    - X_cat: 1-column DataFrame with a categorical variable (eg, for events)\n",
    "    - X_hols: DataFrame with holiday events (currently, 1-column with dummy encoding of holiday effect)\n",
    "    - X_context: Any context variables (eg, market drivers, market index, competitor popularity)\n",
    "\n",
    "    - X_seas: Created seasonality DataFrame\n",
    "    - X_feat: horizontal concatenation of X_spend,X_org,X_content (order does not matter)\n",
    "    - X_trend: Optional - Spline-basis for flexible trend modelling\n",
    "    \n",
    "    - y_std: transformed response variable\n",
    "    - y_true: original response variable (=revenues)\n",
    "    - time_std: transformed time index running from 0-1 during the whole period (important for setting priors)\n",
    "    \n",
    "    - cols_spend: Vector of ad spend variables in the same order as `X_spend` (ie, `names(X_spend)`)\n",
    "    - cat_levels: Integer of how many levels are in the 1-column DataFrame `X_cat`\n",
    "    \n",
    "- Transformations caches saved under pipe_cache_y,pipe_cache_spend\n",
    "    - pipe_cache_y: TableTransforms cache to revert y-variable transform\n",
    "    - pipe_cache_spend: TableTransforms cache to revert X_spend variables transform\n",
    "\n",
    "- Functions:\n",
    "    - revert_pipe_y: utility to revert transformation of y-variable\n",
    "    - revert_pipe_spend: utility to revert transformation of the ad spend variables\n",
    "    \n",
    "Reason: Most of them are used when setting conversion ratios and priors in `ParamsStage1` and `ParamsStage2`"
   ]
  },
  {
   "cell_type": "code",
   "execution_count": null,
   "id": "b10121d6-1edc-458a-8a9b-7a60eaa9410f",
   "metadata": {},
   "outputs": [],
   "source": [
    "# Run some basic checks\n",
    "@assert @isdefined(X_spend)\n",
    "@assert cols_spend==names(X_spend)\n",
    "\n",
    "@assert @isdefined(X_hols) && @isdefined(X_org) && @isdefined(X_cat) && @isdefined(X_context)\n",
    "@assert @isdefined(X_feat) && @isdefined(X_seas) && @isdefined(X_trend)\n",
    "@assert @isdefined(cat_levels) && cat_levels isa Integer\n",
    "\n",
    "@assert @isdefined(y_std) && @isdefined(y_true) && @isdefined(time_std)\n",
    "@assert time_std|>extrema == (0.0, 1.0)\n",
    "\n",
    "@assert size(y_std,1) == size(X_spend,1) == size(X_hols,1) == size(X_org,1) == size(X_cat,1) == size(X_context,1)\n",
    "@assert size(y_std,1) == size(X_feat,1) == size(X_seas,1) # == size(X_trend,1)\n",
    "@assert size(y_std,1) == size(time_std,1) == size(y_true,1)\n",
    "\n",
    "@assert @isdefined(pipe_cache_y) && @isdefined(pipe_cache_spend)\n",
    "\n",
    "@assert @isdefined(revert_pipe_y)\n",
    "@assert @isdefined(revert_pipe_spend)"
   ]
  },
  {
   "cell_type": "markdown",
   "id": "fd951929-2aa6-42bd-b42d-5b7d3f3ccd3f",
   "metadata": {
    "tags": []
   },
   "source": [
    "## Stage 1 - Prophet-like model\n",
    "\n",
    "Let's fit a model to the trend, seasonality and holidays\n",
    "\n",
    "We do not adstock/saturate the marketing spend at this stage"
   ]
  },
  {
   "cell_type": "code",
   "execution_count": null,
   "id": "e3770dab-65f6-446b-bbdb-978af6ddaafa",
   "metadata": {},
   "outputs": [],
   "source": [
    "p1=ParamsStage1(\n",
    "    model_name=Val(Symbol(MODEL_NAME_PREFIT)),\n",
    "    scales_trend=0.2,\n",
    "    scales_hols=0.3,\n",
    "    scales_noise=0.2,\n",
    "    cat_levels=1\n",
    ")\n",
    "p1=set_priors_stage1_trendline(y_std,p1)\n",
    "p1=set_priors_auto_scales(y_std,X_seas,:scales_seas,1.0,p1)\n",
    "p1=set_priors_auto_scales(y_std,X_feat,:scales_feat,1.0,p1)\n",
    "\n",
    "sanity_check_priors(p1;X_seas,X_feat,X_trend,X_hols);"
   ]
  },
  {
   "cell_type": "code",
   "execution_count": null,
   "id": "5854666f-0d1a-4667-88b7-5cb4d3eec4e2",
   "metadata": {},
   "outputs": [],
   "source": [
    "model_orig_stage1=model_func_stage1(time_std,\n",
    "    to_masked_matrix(X_trend),\n",
    "    to_masked_matrix(X_hols),\n",
    "    to_masked_matrix(X_seas),\n",
    "    to_masked_matrix(X_feat),\n",
    "    to_masked_matrix(X_cat),p1);\n",
    "cond_model_stage1=model_orig_stage1 | (;y=y_std);\n",
    "\n",
    "y_prior=mapreduce(x->rand(model_orig_stage1).y,hcat,1:100)|>vec\n",
    "plot_prior_predictive_histogram(y_std,y_prior,ParamsPlot())"
   ]
  },
  {
   "cell_type": "code",
   "execution_count": null,
   "id": "bd11c532-d4c5-4995-ac70-afbeb543eaf6",
   "metadata": {},
   "outputs": [],
   "source": [
    "# used to benchmark implementation of the core function\n",
    "@btime cond_model_stage1.f(\n",
    "    cond_model_stage1,\n",
    "    Turing.VarInfo(cond_model_stage1),\n",
    "    Turing.SamplingContext(\n",
    "        Random.GLOBAL_RNG, Turing.SampleFromPrior(), cond_model_stage1.context,\n",
    "    ),\n",
    "    cond_model_stage1.args...,\n",
    ");"
   ]
  },
  {
   "cell_type": "markdown",
   "id": "f6024ec6-51ad-4993-a115-95e217a6c38d",
   "metadata": {},
   "source": [
    "### NUTS"
   ]
  },
  {
   "cell_type": "code",
   "execution_count": null,
   "id": "15925b43-7793-42e8-8c00-67ef69f171fa",
   "metadata": {},
   "outputs": [],
   "source": [
    "max_depth=10\n",
    "chain_stage1 = sample(cond_model_stage1, NUTS(300,0.65;max_depth),MCMCSerial(),100,1) "
   ]
  },
  {
   "cell_type": "code",
   "execution_count": null,
   "id": "14833fd3-735a-4535-ad2f-5b11e503e9d5",
   "metadata": {},
   "outputs": [],
   "source": [
    "quick_nuts_diagnostics(chain_stage1,max_depth)"
   ]
  },
  {
   "cell_type": "code",
   "execution_count": null,
   "id": "0522bddb-d40b-4ab9-80be-003c91f28c65",
   "metadata": {},
   "outputs": [],
   "source": [
    "pred_vals_stage1 = predict(model_orig_stage1, chain_stage1,include_all=false);\n",
    "y_pred_stage1=mean(pred_vals_stage1.value.data,dims=(1,3))|>vec;\n",
    "plot_model_fit_by_period(y_std,y_pred_stage1,ParamsPlot())"
   ]
  },
  {
   "cell_type": "markdown",
   "id": "20025fe0-6477-46eb-8b22-da6986bab35c",
   "metadata": {
    "tags": []
   },
   "source": [
    "### MAP (Alternative)\n",
    "If NUTS is taking long time, you can just run MAP and use the below chain object for the stage1fit (it tends to be good enough)"
   ]
  },
  {
   "cell_type": "code",
   "execution_count": null,
   "id": "9383bb07-c0f2-45c3-b2e0-81185df01cf7",
   "metadata": {},
   "outputs": [],
   "source": [
    "# @time map_estimate = Optim.optimize(cond_model, MAP())"
   ]
  },
  {
   "cell_type": "code",
   "execution_count": null,
   "id": "7480ecab-7c4e-46ff-b33c-5bc470d603d7",
   "metadata": {},
   "outputs": [],
   "source": [
    "# dim=size(map_estimate.values,1)\n",
    "# chain_map=Chains(repeat(reshape(collect(map_estimate.values),1,dim,1),outer=(100,)),\n",
    "#             names(map_estimate.values)[1]);\n",
    "# pred_vals_map = predict(model_orig, chain_map,include_all=false);\n",
    "# y_pred_map=mean(pred_vals_map.value.data,dims=(1,3))|>vec;\n",
    "\n",
    "# @printf(\"R2: %.1f%% \\n\",myr2(y_std,y_pred_map)*100)\n",
    "# @printf(\"RMSE: %.1f \\n\",rmse(y_std,y_pred_map))\n",
    "# @printf(\"NRMSE: %.1f%% \\n\",nrmse(y_std,y_pred_map)*100)"
   ]
  },
  {
   "cell_type": "code",
   "execution_count": null,
   "id": "742e1221-69a1-4e38-b746-58be7b447cfc",
   "metadata": {},
   "outputs": [],
   "source": [
    "# chain_stage1=chain_map"
   ]
  },
  {
   "cell_type": "markdown",
   "id": "890df8ac-20c3-4474-b367-c0bd9ecac0a8",
   "metadata": {},
   "source": [
    "## Stage 2 - Marketing drivers\n",
    "\n",
    "Let's use the fit from the first stage and focus mostly on the marketing variables (including their adstock/saturation transformations)"
   ]
  },
  {
   "cell_type": "code",
   "execution_count": null,
   "id": "c3824ef1-49ee-49fa-bfa7-31510aaf8df9",
   "metadata": {},
   "outputs": [],
   "source": [
    "stage1_fit=generated_quantities(model_orig_stage1,Chains(chain_stage1,:parameters));\n",
    "stage1_fit=mean([hcat(tup.mu_trend,tup.mu_hols,tup.mu_seas,tup.mu_cat) for tup in stage1_fit]);\n",
    "y_pred=sum(stage1_fit,dims=2)|>vec\n",
    "\n",
    "plot_model_fit_by_period(y_std,y_pred,\n",
    "    ParamsPlot(title_suffix=\" for the Trend Components\"))"
   ]
  },
  {
   "cell_type": "markdown",
   "id": "520b7f73-9786-4042-99a0-4f3a07d62af2",
   "metadata": {},
   "source": [
    "### Model"
   ]
  },
  {
   "cell_type": "code",
   "execution_count": null,
   "id": "5fe86d38-6840-4e47-8d3f-c06fa0ddfa21",
   "metadata": {},
   "outputs": [],
   "source": [
    "p2=ParamsStage2(\n",
    "    model_name=Val(Symbol(MODEL_NAME)),\n",
    "    scales_trend_offset=0.3,\n",
    "    scales_trend=0.2,\n",
    "    scales_noise=0.3,\n",
    ")\n",
    "\n",
    "p2 = set_priors_auto_scales(y_std,X_context,:scales_context,1.0,p2)\n",
    "p2 = set_priors_auto_scales(y_std,X_org,:scales_org,1.0,p2)\n",
    "p2 = set_priors_stage2_hill_curves(X_spend,p2;\n",
    "        units_ratio_spend_to_y=getindex.(pipe_cache_spend,:xh)/pipe_cache_y[1].xh,\n",
    "        halfmaxpoint_scale=0.3,expected_roas=1.0, expected_roas_scale=1.5)\n",
    "p2 = set_priors_stage2_decay_rates([\"digital\",\"tv\",\"digital\"],decay_rates_types_dictionary,p2,cols_spend)\n",
    "\n",
    "sanity_check_priors(p2;X_spend,X_context,X_org);\n",
    "\n",
    "# quick check of decay_rate priors\n",
    "plot_priors_decay_rate(p2,cols_spend)"
   ]
  },
  {
   "cell_type": "markdown",
   "id": "2f141f30-5194-44e8-bd59-1d28d1b10c41",
   "metadata": {},
   "source": [
    "### NUTS"
   ]
  },
  {
   "cell_type": "code",
   "execution_count": null,
   "id": "84ff64fb-461e-487d-a373-6b7fa1428e4d",
   "metadata": {},
   "outputs": [],
   "source": [
    "############\n",
    "model_orig=model_func_stage2(\n",
    "    to_masked_matrix(time_std,FITTING_MASK),\n",
    "    to_masked_matrix(stage1_fit,FITTING_MASK),\n",
    "    to_masked_matrix(X_spend,FITTING_MASK),\n",
    "    to_masked_matrix(X_org,FITTING_MASK),\n",
    "    to_masked_matrix(X_context,FITTING_MASK),\n",
    "    p2);\n",
    "\n",
    "y_std_masked=to_masked_matrix(y_std,FITTING_MASK)\n",
    "\n",
    "cond_model=model_orig | (;y=y_std_masked);\n",
    "y_prior=mapreduce(x->rand(model_orig).y,hcat,1:100)|>vec\n",
    "plot_prior_predictive_histogram(y_std_masked,y_prior,ParamsPlot())"
   ]
  },
  {
   "cell_type": "code",
   "execution_count": null,
   "id": "1eb7f1aa-5241-4d53-8466-75f0f750a6fe",
   "metadata": {},
   "outputs": [],
   "source": [
    "# used to benchmark implementation of the core function\n",
    "\n",
    "@btime cond_model.f(\n",
    "    cond_model,\n",
    "    Turing.VarInfo(cond_model),\n",
    "    Turing.SamplingContext(\n",
    "        Random.GLOBAL_RNG, Turing.SampleFromPrior(), cond_model.context,\n",
    "    ),\n",
    "    cond_model.args...,\n",
    ");"
   ]
  },
  {
   "cell_type": "code",
   "execution_count": null,
   "id": "e48f1d46-8329-4c6e-a559-99c6bf7fbd3f",
   "metadata": {},
   "outputs": [],
   "source": [
    "max_depth=10\n",
    "metricT=AHMC.DiagEuclideanMetric \n",
    "# metricT=AHMC.DenseEuclideanMetric  # optional\n",
    "\n",
    "with_logger(NullLogger()) do \n",
    "    # single chain\n",
    "    # global chain = sample(cond_model, NUTS(300,0.65;max_depth,metricT),MCMCSerial(),300,1) \n",
    "    \n",
    "    # It's always best to run multiple chains\n",
    "    global chain = sample(cond_model, NUTS(300,0.65;max_depth,metricT),MCMCThreads(),250,4) \n",
    "end"
   ]
  },
  {
   "cell_type": "code",
   "execution_count": null,
   "id": "06295db5-3b31-40cb-a80b-048370f23935",
   "metadata": {},
   "outputs": [],
   "source": [
    "quick_nuts_diagnostics(chain,max_depth)"
   ]
  },
  {
   "cell_type": "code",
   "execution_count": null,
   "id": "349054c5-0b42-4052-a62e-e250fb0d031e",
   "metadata": {},
   "outputs": [],
   "source": [
    "# Diagnostics if the parameter space has been properly explored\n",
    "# corner(chain[[namesingroup(chain,\"slope\")...,namesingroup(chain,\"decay_rate\")...]], \n",
    "#     guidefontsize=8,size=(1000,1000))"
   ]
  },
  {
   "cell_type": "code",
   "execution_count": null,
   "id": "a3f67f15-3917-4670-a13f-539341b81783",
   "metadata": {},
   "outputs": [],
   "source": [
    "# Diagnostics if the parameter space has been properly explored\n",
    "# corner(chain[[namesingroup(chain,\"slope\")...,namesingroup(chain,\"beta_spend\")...,Symbol(\"beta_org[1]\")]], \n",
    "#     guidefontsize=8,size=(1000,1000))"
   ]
  },
  {
   "cell_type": "code",
   "execution_count": null,
   "id": "3dcdf363-b431-435e-a48e-1784b289ea5e",
   "metadata": {},
   "outputs": [],
   "source": [
    "# Display traceplots -- look for \"fuzzy caterpillars\"! Any flat lines (ie, chain getting stuck on some values) indicate problems!\n",
    "# plot(chain)"
   ]
  },
  {
   "cell_type": "markdown",
   "id": "5ffe21c5-3053-4065-8758-7fd68fb334f6",
   "metadata": {},
   "source": [
    "# Evaluation"
   ]
  },
  {
   "cell_type": "code",
   "execution_count": null,
   "id": "3f1d63fa-b639-4076-b3a5-f8679bd66291",
   "metadata": {},
   "outputs": [],
   "source": [
    "# Generate predictive posterior\n",
    "y_pred=predict(model_orig, chain,include_all=false) |> x->mean(x.value.data,dims=(1,3))|>vec\n",
    "\n",
    "plot_model_fit_by_period(y_std,y_pred,ParamsPlot())"
   ]
  },
  {
   "cell_type": "code",
   "execution_count": null,
   "id": "cabe7c22-8eea-497e-b01a-e152bb6ab3ed",
   "metadata": {},
   "outputs": [],
   "source": [
    "stage2_fit_allsamples=generated_quantities(model_orig,Chains(chain,:parameters));"
   ]
  },
  {
   "cell_type": "markdown",
   "id": "c82dfcd3-5cc1-4313-a928-17c3c5a63b31",
   "metadata": {},
   "source": [
    "## Model 1-pager"
   ]
  },
  {
   "cell_type": "code",
   "execution_count": null,
   "id": "08b8f3b4-f155-42e2-891b-36054b4a6ebb",
   "metadata": {},
   "outputs": [],
   "source": [
    "pplot=ParamsPlot(title_suffix=EXPERIMENT_NAME);\n",
    "\n",
    "# Header\n",
    "pl0 = plot(title = \"MMM 1-Pager \"*pplot.title_suffix, grid = false, showaxis = false, ticks=false,bottom_margin = -0Plots.px)\n",
    "\n",
    "### PLOT 1\n",
    "pl1=plot_model_fit_by_period(y_std,y_pred,pplot)\n",
    "\n",
    "### PLOT 2\n",
    "pl2=let effect_share_mean=mean_fitted_effects(p2.model_name,stage2_fit_allsamples;\n",
    "             extract_keys=[:mu_trend,:mu_org,:mu_context,:mu_spend_by_var]),\n",
    "        cols=[\"Trend\",\"Organic\",\"Context\",cols_spend...] .|> prettify_labels\n",
    "\n",
    "    plot_contributions(effect_share_mean,cols,pplot)\n",
    "end\n",
    "\n",
    "### PLOT 3\n",
    "# extract fitted geometric decay rates\n",
    "decay_rates=getflatsamples(chain,\"decay_rate\")|>x->mean(x,dims=1)|>vec\n",
    "# calculate roas across the whole period\n",
    "roass=let effects=mean_fitted_effects(p2.model_name,stage2_fit_allsamples;extract_keys=[:mu_spend_by_var]),\n",
    "    spends=sum_columns(X_spend),\n",
    "    factors=p2.units_ratio_spend_to_y\n",
    "    \n",
    "    calc_roas.(effects,spends,factors)\n",
    "end\n",
    "# calculate mroas at mean spend of each variable with delta of 0.01\n",
    "mroas_at_means=[calc_mroas(p2.adspend_mean_nonzero[idx],0.01,chain,p2,idx)[1] for idx in 1:length(cols_spend)]\n",
    "\n",
    "# Total ROAS (depends on model2b used)\n",
    "roas_total=let effects=mean_fitted_effects(p2.model_name,stage2_fit_allsamples;extract_keys=[:mu_spend_by_var]),\n",
    "        spends=sum_columns(X_spend),\n",
    "        factors=p2.units_ratio_spend_to_y,\n",
    "        weights=revert_pipe_spend(X_spend)|>sum_columns\n",
    "    \n",
    "    calc_roas(effects,spends,factors,weights)\n",
    "end\n",
    "\n",
    "cols=prettify_labels.(cols_spend)\n",
    "    \n",
    "pl3=plot_response_curves_table(decay_rates,roass,mroas_at_means,cols,roas_total,pplot)\n",
    "\n",
    "### PLOT 4\n",
    "pl4=let ad_effect_share_mean=(\n",
    "            mean_fitted_effects(p2.model_name,stage2_fit_allsamples;extract_keys=[:mu_spend_by_var])|>\n",
    "            percentage_share\n",
    "        ),\n",
    "    spend_share=(\n",
    "        revert_pipe_spend(X_spend)|>sum_columns |> percentage_share\n",
    "        ),\n",
    "    cols=prettify_labels.(cols_spend)\n",
    "    \n",
    "    plot_effects_vs_spend(ad_effect_share_mean,spend_share,cols,pplot)\n",
    "end\n",
    "\n",
    "####################\n",
    "# 1-Pager\n",
    "\n",
    "plot_array=[pl0,pl1,pl2,pl3,pl4]\n",
    "\n",
    "# Save each step\n",
    "# for i in 1:5\n",
    "#     pl=plot_mmm_one_pager(plot_array,i,pplot)\n",
    "    # savefig(pl,joinpath(pwd(),\"presentation\",\"assets\",\"mmm-1pager_$(i).png\"))\n",
    "# end;\n",
    "\n",
    "# show final\n",
    "pl=plot_mmm_one_pager(plot_array,5,pplot)\n",
    "# savefig(pl,joinpath(pwd(),\"exports\",\"mmm-1pager-$(pplot.title_suffix).png\"))\n",
    "pl"
   ]
  },
  {
   "cell_type": "markdown",
   "id": "2cccff0e-8322-4ce7-ac98-dcaddda27aa6",
   "metadata": {},
   "source": [
    "# Optimization\n",
    "\n",
    "Let's optimize the marketing budget, ie, let's find out by what factor should we increase/decrease our spend on each marketing channel/activity without spending more money overall"
   ]
  },
  {
   "cell_type": "code",
   "execution_count": null,
   "id": "1fee672a-5ffd-43bc-88f4-81f57d1d40c4",
   "metadata": {},
   "outputs": [],
   "source": [
    "# Runs on the whole period at the moment\n",
    "optim_start=df.dt|>minimum\n",
    "optim_end=df.dt|>maximum\n",
    "optim_mask=trues(nrow(df)) \n",
    "\n",
    "@assert ((df.dt .>= optim_start) .&& (df.dt .<= optim_end) )|>all"
   ]
  },
  {
   "cell_type": "markdown",
   "id": "6821cf38-d466-4bf8-93c6-5cb862b35b68",
   "metadata": {},
   "source": [
    "## Metaheuristics loop"
   ]
  },
  {
   "cell_type": "code",
   "execution_count": null,
   "id": "bf9d6f8b-e827-4a96-b3e1-e2a7d35d2936",
   "metadata": {},
   "outputs": [],
   "source": [
    "# Prepare inputs\n",
    "chain_optim=Chains(chain,:parameters)\n",
    "simulations_prev=simulate_revenues_summed(chain_optim,model_orig,optim_mask;extract_key=:mu)\n",
    "\n",
    "# boundaries on possible solution\n",
    "lower_bound = 0.5*ones(length(cols_spend)) # max 50% reduction\n",
    "upper_bound = 1.5*ones(length(cols_spend)) # max 50% increase\n",
    "bounds = [lower_bound upper_bound]'\n",
    "\n",
    "# Bayesian Decision Theory -- how to weigh the outcomes across the posterior distribution\n",
    "# define a simple asymmetric (risk-averse) loss function\n",
    "loss_func(x)=x>0 ? 0.5x : x\n",
    "# plot(loss_func,-2,2) # to review it\n",
    "\n",
    "# All channels must have some spend in the optimization period!\n",
    "@assert all((@view(X_spend[optim_mask,:])|>sum_columns) .>0)\n",
    "\n",
    "# Method with direct budget multiplier\n",
    "# spend_raw_sum is masked with optim_mask!\n",
    "spend_raw_sum=revert_pipe_spend(X_spend[optim_mask,:])|>sum_columns\n",
    "\n",
    "objective_func=generate_objective_func(\n",
    "    chain_optim,model_orig,Matrix(X_spend),optim_mask,\n",
    "    spend_raw_sum,loss_func;simulations_basecase=simulations_prev,extract_key=:mu)"
   ]
  },
  {
   "cell_type": "code",
   "execution_count": null,
   "id": "e2552188-4961-4186-9c7a-205f4c879696",
   "metadata": {},
   "outputs": [],
   "source": [
    "# time_limit is in seconds\n",
    "# debug = true if you want to see each iteration\n",
    "# parallel_evaluation = true if you have batch-enabled objective function (see docs for `threaded_objective_func`)\n",
    "options = Metaheuristics.Options(time_limit=60.,debug=false,parallel_evaluation=true)\n",
    "\n",
    "# Set K parameter as the original paper\n",
    "# Note: authors were running maximum evaluations = 10000 * number_of_dimensions\n",
    "# Source: https://www.researchgate.net/publication/327631987_A_New_Evolutionary_Optimization_Method_Based_on_Center_of_Mass_Performance_and_Safety_Management\n",
    "\n",
    "### Single-thread version\n",
    "# @time result = Metaheuristics.optimize(objective_func, bounds, \n",
    "#     Metaheuristics.ECA(N=7*2*length(cols_spend),K=7,η_max=2.,options=options))\n",
    "\n",
    "### Parallelized version\n",
    "@time result = Metaheuristics.optimize(x->threaded_objective_func(x,objective_func), \n",
    "    bounds, \n",
    "    Metaheuristics.ECA(N=7*2*length(cols_spend),K=7,η_max=2.,options=options))"
   ]
  },
  {
   "cell_type": "code",
   "execution_count": null,
   "id": "98b66820-1d9a-4807-9c91-b37bcaab1482",
   "metadata": {},
   "outputs": [],
   "source": [
    "@show Metaheuristics.minimum(result)\n",
    "@show Metaheuristics.minimizer(result)\n",
    "\n",
    "############################\n",
    "### TRANSFORM THE OPTIMUM\n",
    "loss_optim=Metaheuristics.minimum(result)\n",
    "budget_multiplier_optim=Metaheuristics.minimizer(result);\n",
    "\n",
    "# Careful: X_spend_optim_trf is not subset to optim_mask!\n",
    "X_spend_optim_trf=copy(X_spend)\n",
    "X_spend_optim_trf[optim_mask,:] .*= budget_multiplier_optim';\n",
    "\n",
    "# replace the old spend with new and run the simulation\n",
    "model_args_new=merge(model_orig.args,(;X_spend=to_masked_matrix(X_spend_optim_trf,optim_mask)))\n",
    "simulations_optim=generated_quantities(model_stage2a(model_args_new...),chain_optim);\n",
    "\n",
    "#############################\n",
    "# Optimization smell tests\n",
    "\n",
    "# check that the ad spend is the same \n",
    "let new_spend_sum=revert_pipe_spend(X_spend_optim_trf)|>Matrix|>sum,\n",
    "        check_total_spend1=revert_pipe_spend(X_spend)|>Matrix|>sum\n",
    "    \n",
    "    @assert check_total_spend1 >= new_spend_sum \"Error: Ad spend has increased ($(check_total_spend1) vs $(new_spend_sum))\"\n",
    "end\n",
    "\n",
    "let new_spend_sum=revert_pipe_spend(X_spend_optim_trf)|>Matrix|>sum,\n",
    "        check_total_spend2=sum(Matrix(df[!,cols_spend]))\n",
    "    \n",
    "    @assert check_total_spend2 >= new_spend_sum \"Error: Ad spend has increased ($(check_total_spend2) vs $(new_spend_sum))\"\n",
    "    @assert check_total_spend2*0.95 < new_spend_sum \"Error: Ad spend has decreased by more than 5%! ($(check_total_spend2) vs $(new_spend_sum))\"\n",
    "end\n",
    "\n",
    "# check spend_multiplier that it's within bounds\n",
    "@assert all(bounds'[:,1] .<= budget_multiplier_optim .<= bounds'[:,2])\n",
    "\n",
    "# Mean difference against the known revenues should not be negative \n",
    "# because expected value of noise is zero, minimizer routine should prefer the same solution\n",
    "let simulated_y=mean_fitted_effects(p2.model_name,simulations_optim;extract_keys=[:y],mask=optim_mask)[1]\n",
    "    @assert (simulated_y .- sum(y_std[optim_mask,:])) > 0 \"Suspicious: New optimum is lower than original revenues! Investigate!\"\n",
    "end"
   ]
  },
  {
   "cell_type": "markdown",
   "id": "e859c8bf-126f-4921-81e4-92c256bbd710",
   "metadata": {},
   "source": [
    "## 1-Pager"
   ]
  },
  {
   "cell_type": "code",
   "execution_count": null,
   "id": "a0db1278-4330-4c79-a8d0-8ec57c8eb4f9",
   "metadata": {},
   "outputs": [],
   "source": [
    "# Header\n",
    "pl0 = plot(title = \"Budget Optimization 1-Pager \"*pplot.title_suffix, grid = false, showaxis = false, ticks=false,bottom_margin = -0Plots.px)\n",
    "\n",
    "###\n",
    "pl1=let spend_share_prev=revert_pipe_spend(X_spend) |> x->to_masked_matrix(x,optim_mask) |> sum_columns |> percentage_share,\n",
    "    spend_share_optim=revert_pipe_spend(X_spend_optim_trf) |> x->to_masked_matrix(x,optim_mask) |> sum_columns |> percentage_share,\n",
    "    cols=prettify_labels.(cols_spend)\n",
    "\n",
    "    plot_optimized_spend_share_comparison(spend_share_prev,spend_share_optim,cols,pplot)\n",
    "end\n",
    "\n",
    "### \n",
    "# Total ROAS (depends on model2b used)\n",
    "roas_total=let effects=mean_fitted_effects(p2.model_name,simulations_optim;extract_keys=[:mu_spend_by_var]),\n",
    "        spends=sum_columns(X_spend),\n",
    "        factors=p2.units_ratio_spend_to_y,\n",
    "        weights=revert_pipe_spend(X_spend)|>sum_columns\n",
    "    \n",
    "    calc_roas(effects,spends,factors,weights)\n",
    "end\n",
    "pl2=let roas_total=roas_total,\n",
    "    effect_prev=mean_fitted_effects(p2.model_name,stage2_fit_allsamples;extract_keys=[:mu_spend],mask=optim_mask)[1],\n",
    "    effect_optim=mean_fitted_effects(p2.model_name,simulations_optim;extract_keys=[:mu_spend],mask=optim_mask)[1]\n",
    "\n",
    "    plot_optimized_contribution(effect_prev,effect_optim,roas_total,optim_start,optim_end,revert_pipe_y,pplot)\n",
    "end\n",
    "\n",
    "###\n",
    "pl3=let simulations_prev=simulate_revenues_summed(chain_optim,model_orig,optim_mask;extract_key=:mu),\n",
    "    simulations_optimized=simulate_revenues_summed(chain_optim,model_orig.f(model_args_new...),optim_mask;extract_key=:mu)\n",
    "\n",
    "    revenue_uplift=revert_pipe_y(simulations_optimized .- simulations_prev)\n",
    "\n",
    "    plot_optimized_uplift_histogram(revenue_uplift,pplot)\n",
    "end\n",
    "\n",
    "####################\n",
    "# 1-Pager\n",
    "\n",
    "plot_array=[pl0,pl1,pl2,pl3]\n",
    "\n",
    "# Save each step\n",
    "# for i in 1:length(plot_array)\n",
    "#     pl=plot_optimization_one_pager(plot_array,i,pplot)\n",
    "    # savefig(pl,joinpath(pwd(),\"presentation\",\"assets\",\"optimization-1pager_$(i).png\"))\n",
    "# end;\n",
    "\n",
    "# show final\n",
    "pl=plot_optimization_one_pager(plot_array,4,pplot)\n",
    "# savefig(pl,joinpath(pwd(),\"exports\",\"optimization-1pager-$(pplot.title_suffix).png\"))\n",
    "pl"
   ]
  },
  {
   "cell_type": "markdown",
   "id": "158e4364-b2fe-4388-a15f-f49a1dcf5d70",
   "metadata": {},
   "source": [
    "# END"
   ]
  }
 ],
 "metadata": {
  "kernelspec": {
   "display_name": "julia4 1.7.2",
   "language": "julia",
   "name": "julia4-1.7"
  },
  "language_info": {
   "file_extension": ".jl",
   "mimetype": "application/julia",
   "name": "julia",
   "version": "1.7.2"
  }
 },
 "nbformat": 4,
 "nbformat_minor": 5
}
